{
 "cells": [
  {
   "cell_type": "code",
   "execution_count": null,
   "metadata": {},
   "outputs": [],
   "source": [
    "import csv\n",
    "from pprint import pprint\n",
    "from scrabble_value import scrabble_value"
   ]
  },
  {
   "cell_type": "code",
   "execution_count": null,
   "metadata": {},
   "outputs": [],
   "source": [
    "required_length = 6\n",
    "required_value = 24\n",
    "\n",
    "names = set()\n",
    "\n",
    "with open(\"nat2018.csv\", \"r\") as f:\n",
    "    csvreader = csv.reader(f, delimiter=';')\n",
    "    for row in csvreader:\n",
    "        name = row[1]\n",
    "        name_stripped = name.replace(\"-\", \"\").replace(\"'\", \"\")\n",
    "\n",
    "        if len(name_stripped) == required_length:\n",
    "            if scrabble_value(name_stripped) == required_value:\n",
    "                names.add(name.title())\n",
    "\n",
    "pprint(sorted(list(names)))"
   ]
  },
  {
   "cell_type": "code",
   "execution_count": null,
   "metadata": {},
   "outputs": [],
   "source": []
  }
 ],
 "metadata": {
  "kernelspec": {
   "display_name": "Python 3",
   "language": "python",
   "name": "python3"
  },
  "language_info": {
   "codemirror_mode": {
    "name": "ipython",
    "version": 3
   },
   "file_extension": ".py",
   "mimetype": "text/x-python",
   "name": "python",
   "nbconvert_exporter": "python",
   "pygments_lexer": "ipython3",
   "version": "3.7.6"
  }
 },
 "nbformat": 4,
 "nbformat_minor": 4
}
